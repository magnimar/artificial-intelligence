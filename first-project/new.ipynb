{
 "cells": [
  {
   "cell_type": "code",
   "execution_count": 4,
   "metadata": {},
   "outputs": [],
   "source": [
    "import torch"
   ]
  },
  {
   "cell_type": "code",
   "execution_count": 22,
   "metadata": {},
   "outputs": [],
   "source": [
    "a = torch.randn(2, 2)\n",
    "b = torch.randn(2, 2)"
   ]
  },
  {
   "cell_type": "code",
   "execution_count": 39,
   "metadata": {},
   "outputs": [],
   "source": [
    "x = torch.linspace(0, 1, 100)"
   ]
  },
  {
   "cell_type": "code",
   "execution_count": 48,
   "metadata": {},
   "outputs": [],
   "source": [
    "y = torch.sin(x*2*torch.pi) + torch.randn(100)*0.01"
   ]
  },
  {
   "cell_type": "markdown",
   "metadata": {},
   "source": []
  },
  {
   "cell_type": "code",
   "execution_count": 67,
   "metadata": {},
   "outputs": [
    {
     "data": {
      "text/plain": [
       "<matplotlib.collections.PathCollection at 0x7f760cad6500>"
      ]
     },
     "execution_count": 67,
     "metadata": {},
     "output_type": "execute_result"
    },
    {
     "data": {
      "image/png": "[encoded data removed]",
      "text/plain": [
       "<Figure size 640x480 with 1 Axes>"
      ]
     },
     "metadata": {},
     "output_type": "display_data"
    }
   ],
   "source": [
    "import matplotlib.pyplot as plt\n",
    "\n",
    "plt.scatter(x, y)"
   ]
  },
  {
   "cell_type": "code",
   "execution_count": 100,
   "metadata": {},
   "outputs": [
    {
     "data": {
      "text/plain": [
       "Sequential(\n",
       "  (0): Linear(in_features=1, out_features=8, bias=True)\n",
       "  (1): ReLU()\n",
       "  (2): Linear(in_features=8, out_features=1, bias=True)\n",
       ")"
      ]
     },
     "metadata": {},
     "output_type": "display_data"
    },
    {
     "name": "stdout",
     "output_type": "stream",
     "text": [
      "----------------------------------------------------------------\n",
      "        Layer (type)               Output Shape         Param #\n",
      "================================================================\n",
      "            Linear-1                    [-1, 8]              16\n",
      "              ReLU-2                    [-1, 8]               0\n",
      "            Linear-3                    [-1, 1]               9\n",
      "================================================================\n",
      "Total params: 25\n",
      "Trainable params: 25\n",
      "Non-trainable params: 0\n",
      "----------------------------------------------------------------\n",
      "Input size (MB): 0.00\n",
      "Forward/backward pass size (MB): 0.00\n",
      "Params size (MB): 0.00\n",
      "Estimated Total Size (MB): 0.00\n",
      "----------------------------------------------------------------\n"
     ]
    }
   ],
   "source": [
    "from torch import nn\n",
    "from torchsummary import summary\n",
    "\n",
    "# sequential layer\n",
    "model = nn.Sequential(\n",
    "    # matrix multi\n",
    "    # nn.Linear(1, 8),\n",
    "    nn.Linear(9, 8),\n",
    "    # activation function\n",
    "   \n",
    "    nn.ReLU(),\n",
    "    nn.Linear(8, 1),\n",
    "    \n",
    ")\n",
    "\n",
    "display(model)\n",
    "\n",
    "summary(model, (1,), device='cpu')"
   ]
  },
  {
   "cell_type": "code",
   "execution_count": 51,
   "metadata": {},
   "outputs": [
    {
     "data": {
      "text/plain": [
       "tensor([[-0.5298],\n",
       "        [-0.1534],\n",
       "        [-0.3391],\n",
       "        [-0.4858],\n",
       "        [-0.5438],\n",
       "        [-0.3082],\n",
       "        [ 0.3906],\n",
       "        [ 0.3814],\n",
       "        [-0.5656],\n",
       "        [ 0.3514]], grad_fn=<AddmmBackward0>)"
      ]
     },
     "execution_count": 51,
     "metadata": {},
     "output_type": "execute_result"
    }
   ],
   "source": [
    "\n",
    "# batch of size 10 with each having 1 dimension\n",
    "batch = torch.randn(10, 1)\n",
    "\n",
    "\n",
    "# [\n",
    "#     [0.1],\n",
    "#     [0.2],\n",
    "#     [0.3]\n",
    "# ]\n",
    "\n",
    "# (B, 1)\n",
    "\n",
    "# x is input and y is target\n",
    "\n",
    "model(batch)"
   ]
  },
  {
   "cell_type": "code",
   "execution_count": 55,
   "metadata": {},
   "outputs": [
    {
     "data": {
      "text/plain": [
       "tensor([[-0.1905],\n",
       "        [-0.1942],\n",
       "        [-0.1980],\n",
       "        [-0.2017],\n",
       "        [-0.2055],\n",
       "        [-0.2088],\n",
       "        [-0.2120],\n",
       "        [-0.2150],\n",
       "        [-0.2180],\n",
       "        [-0.2210],\n",
       "        [-0.2240],\n",
       "        [-0.2271],\n",
       "        [-0.2301],\n",
       "        [-0.2331],\n",
       "        [-0.2361],\n",
       "        [-0.2391],\n",
       "        [-0.2421],\n",
       "        [-0.2451],\n",
       "        [-0.2481],\n",
       "        [-0.2511],\n",
       "        [-0.2541],\n",
       "        [-0.2571],\n",
       "        [-0.2602],\n",
       "        [-0.2632],\n",
       "        [-0.2664],\n",
       "        [-0.2700],\n",
       "        [-0.2737],\n",
       "        [-0.2773],\n",
       "        [-0.2812],\n",
       "        [-0.2858],\n",
       "        [-0.2903],\n",
       "        [-0.2948],\n",
       "        [-0.2993],\n",
       "        [-0.3039],\n",
       "        [-0.3084],\n",
       "        [-0.3129],\n",
       "        [-0.3174],\n",
       "        [-0.3220],\n",
       "        [-0.3265],\n",
       "        [-0.3306],\n",
       "        [-0.3348],\n",
       "        [-0.3389],\n",
       "        [-0.3431],\n",
       "        [-0.3472],\n",
       "        [-0.3514],\n",
       "        [-0.3555],\n",
       "        [-0.3597],\n",
       "        [-0.3638],\n",
       "        [-0.3680],\n",
       "        [-0.3721],\n",
       "        [-0.3763],\n",
       "        [-0.3804],\n",
       "        [-0.3846],\n",
       "        [-0.3887],\n",
       "        [-0.3928],\n",
       "        [-0.3970],\n",
       "        [-0.4013],\n",
       "        [-0.4060],\n",
       "        [-0.4107],\n",
       "        [-0.4154],\n",
       "        [-0.4194],\n",
       "        [-0.4229],\n",
       "        [-0.4263],\n",
       "        [-0.4297],\n",
       "        [-0.4331],\n",
       "        [-0.4365],\n",
       "        [-0.4400],\n",
       "        [-0.4434],\n",
       "        [-0.4468],\n",
       "        [-0.4502],\n",
       "        [-0.4536],\n",
       "        [-0.4571],\n",
       "        [-0.4602],\n",
       "        [-0.4634],\n",
       "        [-0.4666],\n",
       "        [-0.4698],\n",
       "        [-0.4729],\n",
       "        [-0.4761],\n",
       "        [-0.4788],\n",
       "        [-0.4811],\n",
       "        [-0.4835],\n",
       "        [-0.4859],\n",
       "        [-0.4883],\n",
       "        [-0.4906],\n",
       "        [-0.4930],\n",
       "        [-0.4954],\n",
       "        [-0.4978],\n",
       "        [-0.5002],\n",
       "        [-0.5025],\n",
       "        [-0.5049],\n",
       "        [-0.5073],\n",
       "        [-0.5097],\n",
       "        [-0.5120],\n",
       "        [-0.5144],\n",
       "        [-0.5168],\n",
       "        [-0.5192],\n",
       "        [-0.5216],\n",
       "        [-0.5233],\n",
       "        [-0.5247],\n",
       "        [-0.5261]], grad_fn=<AddmmBackward0>)"
      ]
     },
     "execution_count": 55,
     "metadata": {},
     "output_type": "execute_result"
    }
   ],
   "source": [
    "# x.unsqueeze(1)\n",
    "model(x.unsqueeze(1))"
   ]
  },
  {
   "cell_type": "code",
   "execution_count": 102,
   "metadata": {},
   "outputs": [
    {
     "data": {
      "text/plain": [
       "[<matplotlib.lines.Line2D at 0x7f7603a02530>]"
      ]
     },
     "execution_count": 102,
     "metadata": {},
     "output_type": "execute_result"
    },
    {
     "data": {
      "image/png": "[encoded data removed]",
      "text/plain": [
       "<Figure size 640x480 with 1 Axes>"
      ]
     },
     "metadata": {},
     "output_type": "display_data"
    }
   ],
   "source": [
    "# [[1, 2, 3], [3, 4, 5]] (2, 3)\n",
    "\n",
    "# model stores all operations\n",
    "# h(i) knows its past\n",
    "# gradient descent\n",
    "# detach only takes output\n",
    "plt.scatter(x, y)\n",
    "plt.plot(x, model(x.unsqueeze(1)).detach().numpy(), c='r')\n",
    "\n",
    "# (outer, inner)\n",
    "# (1, 2, 3)\n",
    "\n",
    "# underfitting\n",
    "# functino is too small for the data\n"
   ]
  },
  {
   "cell_type": "code",
   "execution_count": 101,
   "metadata": {},
   "outputs": [
    {
     "name": "stderr",
     "output_type": "stream",
     "text": [
      "100%|██████████| 3000/3000 [00:02<00:00, 1216.50it/s]\n"
     ]
    },
    {
     "data": {
      "text/plain": [
       "[<matplotlib.lines.Line2D at 0x7f7603b677f0>]"
      ]
     },
     "execution_count": 101,
     "metadata": {},
     "output_type": "execute_result"
    },
    {
     "data": {
      "image/png": "[encoded data removed]",
      "text/plain": [
       "<Figure size 640x480 with 1 Axes>"
      ]
     },
     "metadata": {},
     "output_type": "display_data"
    }
   ],
   "source": [
    "from torch import optim\n",
    "from tqdm import tqdm\n",
    "\n",
    "# mean squared error loss\n",
    "loss_fn = nn.MSELoss()\n",
    "\n",
    "# the higher the parameters, the faster the change\n",
    "# SGD ADAM\n",
    "\n",
    "optimizer = optim.Adam(model.parameters(), lr=1e-3) # 0.001\n",
    "\n",
    "epochs = 3000\n",
    "\n",
    "losses = []\n",
    "\n",
    "for i in tqdm(range(epochs)):\n",
    "    optimizer.zero_grad()\n",
    "\n",
    "    # y_hat = model(x.unsqueeze(1))\n",
    "    y_hat = model(x)\n",
    "    \n",
    "    # difference between y hat and y\n",
    "    loss = loss_fn(y_hat, y.unsqueeze(1))\n",
    "\n",
    "    losses.append(loss.item())\n",
    "    \n",
    "    # parameters -> loss\n",
    "    # loss.backward() -> parameters.gradients\n",
    "    # optimizer.step() -> uses optimiers.parameters.gradients to update parameters\n",
    "\n",
    "    loss.backward()\n",
    "\n",
    "    optimizer.step()\n",
    "\n",
    "plt.plot(losses)"
   ]
  },
  {
   "cell_type": "code",
   "execution_count": null,
   "metadata": {},
   "outputs": [],
   "source": []
  },
  {
   "cell_type": "code",
   "execution_count": null,
   "metadata": {},
   "outputs": [],
   "source": []
  },
  {
   "cell_type": "code",
   "execution_count": null,
   "metadata": {},
   "outputs": [],
   "source": []
  },
  {
   "cell_type": "code",
   "execution_count": null,
   "metadata": {},
   "outputs": [],
   "source": []
  }
 ],
 "metadata": {
  "kernelspec": {
   "display_name": "env",
   "language": "python",
   "name": "python3"
  },
  "language_info": {
   "codemirror_mode": {
    "name": "ipython",
    "version": 3
   },
   "file_extension": ".py",
   "mimetype": "text/x-python",
   "name": "python",
   "nbconvert_exporter": "python",
   "pygments_lexer": "ipython3",
   "version": "3.10.6"
  },
  "orig_nbformat": 4
 },
 "nbformat": 4,
 "nbformat_minor": 2
}
